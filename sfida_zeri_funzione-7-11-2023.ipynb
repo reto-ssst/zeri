{
 "cells": [
  {
   "cell_type": "markdown",
   "metadata": {},
   "source": [
    "# SFIDA: \n",
    "## Determinare numericamente gli zeri di una funzione\n",
    "\n",
    "Volgiamo determinare numericamente gli zeri di una funzione. Per questo motivo non è permesso l'utilizzo di una caloclatrice grafica (Desmos, ...).\n",
    "\n",
    "I risultati devono essere dedotti solo dai valori numerici della funzione.\n",
    "\n",
    "In un secondo momento ci soffermeremo sulla rappresentazione grafica per poter generalizzare i metodi scoperti e definire degli algoritmi generici."
   ]
  },
  {
   "cell_type": "markdown",
   "metadata": {},
   "source": []
  },
  {
   "cell_type": "markdown",
   "metadata": {},
   "source": [
    "Proviamo ad esempio a determinare gli zeri della funzionne di legge \n",
    "$$f(x)=\\sin(x^2+2x) -2x^2+2$$"
   ]
  },
  {
   "cell_type": "markdown",
   "metadata": {},
   "source": [
    "In questi casi ci serve la libreria `numpy`\n",
    "\n",
    "__[Documentazione NumPy](https://numpy.org/doc/stable/reference/index.html)__"
   ]
  },
  {
   "cell_type": "code",
   "execution_count": 1,
   "metadata": {},
   "outputs": [],
   "source": [
    "import numpy as np"
   ]
  },
  {
   "cell_type": "markdown",
   "metadata": {},
   "source": [
    "Abbimao importato la libreria e assegnato il nome `np`\n",
    "\n",
    "Per utilizzare delle funzioni (o delle costanti) di `numpy` possiamo utilizzare `np.<funzione>` (`np.<costante>`)\n",
    "\n",
    "Ad esempio per ottenere il valore di $\\pi$ utilizzeremo `np.pi`"
   ]
  },
  {
   "cell_type": "code",
   "execution_count": 2,
   "metadata": {},
   "outputs": [
    {
     "data": {
      "text/plain": [
       "3.141592653589793"
      ]
     },
     "execution_count": 2,
     "metadata": {},
     "output_type": "execute_result"
    }
   ],
   "source": [
    "np.pi"
   ]
  },
  {
   "cell_type": "markdown",
   "metadata": {},
   "source": [
    "Definiamo la funzione in Python\n",
    "\n",
    "Per definire una funzione \n",
    "```\n",
    "def <nome_funzione>(<arg1>,<arg2>,<arg3=valore_default>):\n",
    "    <corpo della funzione>\n",
    "    return <valore di output>\n",
    "\n",
    "```"
   ]
  },
  {
   "cell_type": "code",
   "execution_count": 3,
   "metadata": {},
   "outputs": [],
   "source": [
    "def f(x):\n",
    "    return np.sin(x**2+2*x)-2*x**2+2"
   ]
  },
  {
   "cell_type": "markdown",
   "metadata": {},
   "source": [
    "Per utilizzare la funzione \n",
    "```\n",
    "<nome_funzione>(<argomento>)\n",
    "```\n",
    "\n",
    "Ad esempio per calcolare $f(1)$"
   ]
  },
  {
   "cell_type": "code",
   "execution_count": 4,
   "metadata": {},
   "outputs": [
    {
     "data": {
      "text/plain": [
       "0.14112000805986713"
      ]
     },
     "execution_count": 4,
     "metadata": {},
     "output_type": "execute_result"
    }
   ],
   "source": [
    "f(1)"
   ]
  },
  {
   "cell_type": "code",
   "execution_count": 5,
   "metadata": {},
   "outputs": [
    {
     "data": {
      "text/plain": [
       "-5.0106417533766185"
      ]
     },
     "execution_count": 5,
     "metadata": {},
     "output_type": "execute_result"
    }
   ],
   "source": [
    "f(2)"
   ]
  },
  {
   "cell_type": "code",
   "execution_count": 21,
   "metadata": {},
   "outputs": [
    {
     "data": {
      "text/plain": [
       "1.0"
      ]
     },
     "execution_count": 21,
     "metadata": {},
     "output_type": "execute_result"
    }
   ],
   "source": [
    "bordo_sinistro=-0.7707\n",
    "bordo_destro=-0.7706\n",
    "np.sign(f(bordo_sinistro)*f(bordo_destro))\n"
   ]
  },
  {
   "cell_type": "code",
   "execution_count": 34,
   "metadata": {},
   "outputs": [],
   "source": [
    "precision=0.1\n",
    "input=np.arange(start=-10, stop=10, step=precision)"
   ]
  },
  {
   "cell_type": "code",
   "execution_count": 35,
   "metadata": {},
   "outputs": [],
   "source": [
    "output=f(input)"
   ]
  },
  {
   "cell_type": "code",
   "execution_count": 36,
   "metadata": {},
   "outputs": [
    {
     "data": {
      "text/plain": [
       "array([-1.98993889e+02, -1.93696131e+02, -1.89216698e+02, -1.86830486e+02,\n",
       "       -1.82966791e+02, -1.77654965e+02, -1.74289577e+02, -1.71920819e+02,\n",
       "       -1.67543409e+02, -1.62641420e+02, -1.59832644e+02, -1.57408928e+02,\n",
       "       -1.53029181e+02, -1.48394506e+02, -1.45710237e+02, -1.43463201e+02,\n",
       "       -1.39465644e+02, -1.34881178e+02, -1.31936570e+02, -1.29974887e+02,\n",
       "       -1.26768255e+02, -1.22328432e+02, -1.18728615e+02, -1.16672166e+02,\n",
       "       -1.14508994e+02, -1.10897963e+02, -1.06748812e+02, -1.03743487e+02,\n",
       "       -1.01936222e+02, -9.98166657e+01, -9.64281827e+01, -9.25401785e+01,\n",
       "       -8.95395086e+01, -8.77059943e+01, -8.59903568e+01, -8.33280755e+01,\n",
       "       -7.98059151e+01, -7.64537518e+01, -7.40921816e+01, -7.25424333e+01,\n",
       "       -7.09055784e+01, -6.84715063e+01, -6.53288320e+01, -6.21959596e+01,\n",
       "       -5.97537006e+01, -5.81101727e+01, -5.67902340e+01, -5.51577716e+01,\n",
       "       -5.28828359e+01, -5.01218598e+01, -4.73497122e+01, -4.50226512e+01,\n",
       "       -4.33133358e+01, -4.20566853e+01, -4.08898889e+01, -3.94678080e+01,\n",
       "       -3.76266279e+01, -3.54286213e+01, -3.30962717e+01, -3.08924267e+01,\n",
       "       -2.90106418e+01, -2.75169514e+01, -2.63515153e+01, -2.53731854e+01,\n",
       "       -2.44196419e+01, -2.33589345e+01, -2.21188668e+01, -2.06921122e+01,\n",
       "       -1.91229987e+01, -1.74851961e+01, -1.58588800e+01, -1.43130931e+01,\n",
       "       -1.28956841e+01, -1.16305144e+01, -1.05200583e+01, -9.55101538e+00,\n",
       "       -8.70080843e+00, -7.94346282e+00, -7.25406053e+00, -6.61154010e+00,\n",
       "       -6.00000000e+00, -5.40885889e+00, -4.83227423e+00, -4.26817725e+00,\n",
       "       -3.71719544e+00, -3.18163876e+00, -2.66464312e+00, -2.16950374e+00,\n",
       "       -1.69919157e+00, -1.25602598e+00, -8.41470985e-01, -4.56025979e-01,\n",
       "       -9.91915683e-02,  2.30496260e-01,  5.35356880e-01,  8.18361240e-01,\n",
       "        1.08280456e+00,  1.33182275e+00,  1.56772577e+00,  1.79114111e+00,\n",
       "        2.00000000e+00,  2.18845990e+00,  2.34593947e+00,  2.45653718e+00,\n",
       "        2.49919157e+00,  2.44898462e+00,  2.27994172e+00,  1.96948561e+00,\n",
       "        1.50431593e+00,  8.86906852e-01,  1.41120008e-01, -6.85196146e-01,\n",
       "       -1.52299874e+00, -2.29211220e+00, -2.91886681e+00, -3.35893449e+00,\n",
       "       -3.61964188e+00, -3.77318536e+00, -3.95151526e+00, -4.31695144e+00,\n",
       "       -5.01064175e+00, -6.09242671e+00, -7.49627172e+00, -9.02862125e+00,\n",
       "       -1.04266279e+01, -1.14678080e+01, -1.20898889e+01, -1.24566853e+01,\n",
       "       -1.29133358e+01, -1.38226512e+01, -1.53497122e+01, -1.73218598e+01,\n",
       "       -1.92828359e+01, -2.07577716e+01, -2.15902340e+01, -2.21101727e+01,\n",
       "       -2.29537006e+01, -2.45959596e+01, -2.69288320e+01, -2.92715063e+01,\n",
       "       -3.09055784e+01, -3.17424333e+01, -3.24921816e+01, -3.40537518e+01,\n",
       "       -3.66059151e+01, -3.93280755e+01, -4.11903568e+01, -4.21059943e+01,\n",
       "       -4.31395086e+01, -4.53401785e+01, -4.84281827e+01, -5.10166657e+01,\n",
       "       -5.23362221e+01, -5.33434870e+01, -5.55488124e+01, -5.88979631e+01,\n",
       "       -6.17089942e+01, -6.30721662e+01, -6.43286147e+01, -6.71284316e+01,\n",
       "       -7.07682547e+01, -7.31748874e+01, -7.43365701e+01, -7.64811777e+01,\n",
       "       -8.02656439e+01, -8.34632010e+01, -8.49102373e+01, -8.67945060e+01,\n",
       "       -9.06291806e+01, -9.42089284e+01, -9.58326443e+01, -9.78414202e+01,\n",
       "       -1.01943409e+02, -1.05520819e+02, -1.07089577e+02, -1.09654965e+02,\n",
       "       -1.14166791e+02, -1.17230486e+02, -1.18816698e+02, -1.22496131e+02,\n",
       "       -1.26993889e+02, -1.29091763e+02, -1.31554255e+02, -1.36398630e+02,\n",
       "       -1.39688428e+02, -1.41540448e+02, -1.45973787e+02, -1.50295914e+02,\n",
       "       -1.52168086e+02, -1.56049663e+02, -1.60999207e+02, -1.63159077e+02,\n",
       "       -1.66688791e+02, -1.71968264e+02, -1.74381004e+02, -1.77851401e+02,\n",
       "       -1.83306164e+02, -1.85797349e+02, -1.89516242e+02, -1.95020000e+02])"
      ]
     },
     "execution_count": 36,
     "metadata": {},
     "output_type": "execute_result"
    }
   ],
   "source": [
    "output"
   ]
  },
  {
   "cell_type": "code",
   "execution_count": 37,
   "metadata": {},
   "outputs": [],
   "source": [
    "def trova_zeri(x,y):\n",
    "    ''' Trova gli intervalli che contengono gli zeri della funzione'''\n",
    "    zeri=[]\n",
    "    for i in range(len(x)-1):\n",
    "        if y[i]*y[i+1]<0:\n",
    "            zeri.append([x[i],x[i+1]])\n",
    "    return zeri"
   ]
  },
  {
   "cell_type": "code",
   "execution_count": 38,
   "metadata": {},
   "outputs": [
    {
     "data": {
      "text/plain": [
       "[[-0.8000000000000327, -0.700000000000033],\n",
       " [0.9999999999999609, 1.0999999999999606]]"
      ]
     },
     "execution_count": 38,
     "metadata": {},
     "output_type": "execute_result"
    }
   ],
   "source": [
    "trova_zeri(input,output)"
   ]
  },
  {
   "cell_type": "code",
   "execution_count": null,
   "metadata": {},
   "outputs": [],
   "source": []
  },
  {
   "cell_type": "code",
   "execution_count": null,
   "metadata": {},
   "outputs": [],
   "source": []
  }
 ],
 "metadata": {
  "kernelspec": {
   "display_name": "Python 3",
   "language": "python",
   "name": "python3"
  },
  "language_info": {
   "codemirror_mode": {
    "name": "ipython",
    "version": 3
   },
   "file_extension": ".py",
   "mimetype": "text/x-python",
   "name": "python",
   "nbconvert_exporter": "python",
   "pygments_lexer": "ipython3",
   "version": "3.10.8"
  }
 },
 "nbformat": 4,
 "nbformat_minor": 2
}
